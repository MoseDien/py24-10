{
 "cells": [
  {
   "cell_type": "markdown",
   "metadata": {},
   "source": [
    "# 类型"
   ]
  },
  {
   "cell_type": "markdown",
   "metadata": {},
   "source": [
    "## 1. 基本数据类型\n",
    "数值类型（Numeric Types）\n",
    "- int（整数）：表示整数，如 1, -100, 42\n",
    "- float（浮点数）：表示带小数点的数值，如 3.14, -2.718, 0.0\n",
    "- complex（复数）：表示复数，如 3 + 4j, -2 - 1j\n",
    "\n",
    "布尔类型（Boolean Type）\n",
    "- bool（布尔值）：表示 True 或 False，如 True, False\n",
    "\n",
    "## 2. 序列类型（Sequence Types）\n",
    "- str（字符串）：存储文本数据，用单引号、双引号或三引号括起来，如 'hello', \"world\", '''Python'''\n",
    "- list（列表）：有序可变集合，可以包含不同类型的数据，如 [1, 2, 3, \"apple\"]\n",
    "- tuple（元组）：有序不可变集合，如 (1, \"a\", True)\n",
    "\n",
    "## 3. 集合类型（Set Types）\n",
    "- set（集合）：无序、不重复元素的集合，如 {1, 2, 3, \"apple\"}\n",
    "- frozenset（冻结集合）：不可变集合，如 frozenset([1, 2, 3])\n",
    "\n",
    "## 4. 映射类型（Mapping Types）\n",
    "- dict（字典）：键值对的集合，如 {\"name\": \"Alice\", \"age\": 25}\n",
    "\n",
    "## 5. 其他类型\n",
    "- bytes（字节）：用于存储二进制数据，如 b\"hello\"\n",
    "- bytearray（字节数组）：可变的字节序列，如 bytearray(b\"hello\")\n",
    "- memoryview（内存视图）：用于访问字节数据的可变视图。\n",
    "\n",
    "## 6. None 类型\n",
    "NoneType：表示空值，只有一个值：None。\n"
   ]
  },
  {
   "cell_type": "code",
   "execution_count": 1,
   "metadata": {},
   "outputs": [
    {
     "data": {
      "text/plain": [
       "True"
      ]
     },
     "execution_count": 1,
     "metadata": {},
     "output_type": "execute_result"
    }
   ],
   "source": [
    "# 类型检查\n",
    "# Python 提供了内置函数来检查变量类型：\n",
    "\n",
    "variable = 123\n",
    "type(variable)  # 返回变量类型\n",
    "isinstance(variable, int)  # 检查变量是否为指定类型\n"
   ]
  },
  {
   "cell_type": "code",
   "execution_count": null,
   "metadata": {},
   "outputs": [
    {
     "ename": "TypeError",
     "evalue": "'float' object is not iterable",
     "output_type": "error",
     "traceback": [
      "\u001b[0;31m---------------------------------------------------------------------------\u001b[0m",
      "\u001b[0;31mTypeError\u001b[0m                                 Traceback (most recent call last)",
      "Cell \u001b[0;32mIn[7], line 8\u001b[0m\n\u001b[1;32m      5\u001b[0m \u001b[38;5;28mstr\u001b[39m(x)  \u001b[38;5;66;03m# 将 x 转换为字符串\u001b[39;00m\n\u001b[1;32m      6\u001b[0m \u001b[38;5;28mbool\u001b[39m(x) \u001b[38;5;66;03m# 将 x 转换为布尔值\u001b[39;00m\n\u001b[0;32m----> 8\u001b[0m \u001b[38;5;28;43mlist\u001b[39;49m\u001b[43m(\u001b[49m\u001b[43mx\u001b[49m\u001b[43m)\u001b[49m \u001b[38;5;66;03m# 将 x 转换为列表\u001b[39;00m\n\u001b[1;32m      9\u001b[0m \u001b[38;5;28mtuple\u001b[39m(x) \u001b[38;5;66;03m# 将 x 转换为元组\u001b[39;00m\n\u001b[1;32m     10\u001b[0m \u001b[38;5;28mset\u001b[39m(x) \u001b[38;5;66;03m# 将 x 转换为集合\u001b[39;00m\n",
      "\u001b[0;31mTypeError\u001b[0m: 'float' object is not iterable"
     ]
    }
   ],
   "source": [
    "# 类型转换 - 常用转换函数 内置函数\n",
    "x = 1.0\n",
    "int(x) # 将 x 转换为整数\n",
    "float(x) # 将 x 转换为浮点数\n",
    "str(x)  # 将 x 转换为字符串\n",
    "bool(x) # 将 x 转换为布尔值\n",
    "\n",
    "# 如下报错 - 'float' object is not iterable\n",
    "list(x) # 将 x 转换为列表\n",
    "tuple(x) # 将 x 转换为元组\n",
    "set(x) # 将 x 转换为集合\n",
    "dict(x) # 将 x 转换为字典（需要键值对形式的输入）\n"
   ]
  },
  {
   "cell_type": "code",
   "execution_count": null,
   "metadata": {},
   "outputs": [],
   "source": [
    "# class 类定义\n",
    "\n",
    "class Student:\n",
    "    # 构造函数，初始化学生的姓名和年龄\n",
    "    def __init__(self, name, age):\n",
    "        self.name = name  # 学生姓名\n",
    "        self.age = age    # 学生年龄\n",
    "\n",
    "    # 方法：打印学生信息\n",
    "    def display_info(self):\n",
    "        print(f\"Name: {self.name}, Age: {self.age}\")\n",
    "\n",
    "    # 方法：更新学生年龄\n",
    "    def update_age(self, new_age):\n",
    "        self.age = new_age\n",
    "        print(f\"{self.name}'s age has been updated to {self.age}\")\n"
   ]
  },
  {
   "cell_type": "code",
   "execution_count": null,
   "metadata": {},
   "outputs": [
    {
     "name": "stdout",
     "output_type": "stream",
     "text": [
      "Name: Alice, Age: 20\n",
      "4398811024\n",
      "Alice's age has been updated to 21\n",
      "Name: Alice, Age: 21\n",
      "4398811024\n",
      "False\n",
      "True\n",
      "<class 'int'>\n",
      "<class '__main__.Student'>\n"
     ]
    }
   ],
   "source": [
    "# 创建一个 Student 对象\n",
    "student1 = Student(\"Alice\", 20)\n",
    "\n",
    "# 调用类的方法\n",
    "student1.display_info()  # 输出: Name: Alice, Age: 20\n",
    "print(id(student1)) # Student 是可变对象，id 不变\n",
    "student1.update_age(21)  # 输出: Alice's age has been updated to 21\n",
    "student1.display_info()  # 输出: Name: Alice, Age: 21\n",
    "print(id(student1)) \n",
    "\n",
    "# isinstance() 函数\n",
    "print(isinstance(student1, int)) \n",
    "print(isinstance(student1, Student)) \n",
    "\n",
    "# type() 函数\n",
    "print(type(1))  # <class 'int'>\n",
    "print(type(student1))  # <class '__main__.Student'>\n"
   ]
  }
 ],
 "metadata": {
  "kernelspec": {
   "display_name": "Python 3",
   "language": "python",
   "name": "python3"
  },
  "language_info": {
   "codemirror_mode": {
    "name": "ipython",
    "version": 3
   },
   "file_extension": ".py",
   "mimetype": "text/x-python",
   "name": "python",
   "nbconvert_exporter": "python",
   "pygments_lexer": "ipython3",
   "version": "3.9.6"
  }
 },
 "nbformat": 4,
 "nbformat_minor": 2
}

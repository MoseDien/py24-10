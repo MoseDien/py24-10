{
 "cells": [
  {
   "cell_type": "markdown",
   "metadata": {},
   "source": [
    "# 函数的参数传递\n",
    "- 在 Python 中，函数的参数传递方式是 按对象引用传递，也称为按共享传递。\n",
    "- 这意味着函数接收到的是参数的引用，而不是参数本身的副本。具体行为取决于传递的对象是可变还是不可变的。\n"
   ]
  },
  {
   "cell_type": "code",
   "execution_count": null,
   "metadata": {},
   "outputs": [
    {
     "name": "stdout",
     "output_type": "stream",
     "text": [
      "Original x: 10, id: 4466231888\n",
      "Modified x: 11, id: 4466231920\n",
      "10\n"
     ]
    }
   ],
   "source": [
    "# 不可变对象\n",
    "# 对于不可变对象（如 int、float、str、tuple），参数传递的时候\n",
    "\n",
    "def modify(x):\n",
    "    print(f\"Original x: {x}, id: {id(x)}\")\n",
    "    x = x + 1  # 创建了新的整数对象\n",
    "    print(f\"Modified x: {x}, id: {id(x)}\")\n",
    "\n",
    "a = 10\n",
    "modify(a)\n",
    "print(a)  # 输出仍然是 10\n"
   ]
  },
  {
   "cell_type": "code",
   "execution_count": 2,
   "metadata": {},
   "outputs": [
    {
     "name": "stdout",
     "output_type": "stream",
     "text": [
      "Original lst: [1, 2, 3], id: 4510729152\n",
      "Modified lst: [1, 2, 3, 4], id: 4510729152\n",
      "[1, 2, 3, 4]\n"
     ]
    }
   ],
   "source": [
    "# 可变对象\n",
    "# 对于可变对象（如 list、dict、set），函数中通过参数引用可以直接修改对象内容，函数外的变量也会受影响。\n",
    "def modify(lst):\n",
    "    print(f\"Original lst: {lst}, id: {id(lst)}\")\n",
    "    lst.append(4)  # 修改了列表内容\n",
    "    print(f\"Modified lst: {lst}, id: {id(lst)}\")\n",
    "\n",
    "my_list = [1, 2, 3]\n",
    "modify(my_list)\n",
    "print(my_list)  # 输出 [1, 2, 3, 4]\n"
   ]
  },
  {
   "cell_type": "code",
   "execution_count": 3,
   "metadata": {},
   "outputs": [
    {
     "name": "stdout",
     "output_type": "stream",
     "text": [
      "Original lst: [1, 2, 3], id: 4510647104\n",
      "Reassigned lst: [4, 5, 6], id: 4510649728\n",
      "[1, 2, 3]\n"
     ]
    }
   ],
   "source": [
    "# 特别注意\n",
    "# 重新赋值不会影响原对象\n",
    "# 如果在函数中对可变对象重新赋值，外部对象不会受影响。\n",
    "\n",
    "def reassign(lst):\n",
    "    print(f\"Original lst: {lst}, id: {id(lst)}\")\n",
    "    lst = [4, 5, 6]  # 创建了新列表对象，并让 lst 指向它\n",
    "    print(f\"Reassigned lst: {lst}, id: {id(lst)}\")\n",
    "\n",
    "my_list = [1, 2, 3]\n",
    "reassign(my_list)\n",
    "print(my_list)  # 输出 [1, 2, 3]\n"
   ]
  },
  {
   "cell_type": "markdown",
   "metadata": {},
   "source": [
    "# 默认参数的陷阱\n",
    "默认参数是可变对象时，容易导致意外结果。"
   ]
  },
  {
   "cell_type": "code",
   "execution_count": null,
   "metadata": {},
   "outputs": [],
   "source": [
    "# \n",
    "def add_item(item, lst=[]):  # 默认参数是共享的列表\n",
    "    lst.append(item)\n",
    "    return lst\n",
    "\n",
    "# 第一次调用 add_item 时，lst 是空列表，添加了 1\n",
    "# 第二次调用 add_item 时，lst 是上一次调用的结果 [1]，添加了 2\n",
    "# 相当于有一个全局变量 lst，每次调用 add_item 都会修改这个全局变量\n",
    "print(add_item(1))  # 输出 [1]\n",
    "print(add_item(2))  # 输出 [1, 2]"
   ]
  },
  {
   "cell_type": "code",
   "execution_count": null,
   "metadata": {},
   "outputs": [],
   "source": [
    "# 解决办法：将默认参数设置为不可变对象（如 None），并在函数内部初始化。\n",
    "\n",
    "def add_item(item, lst=None):\n",
    "    if lst is None:\n",
    "        lst = []  # 每次创建新的列表\n",
    "    lst.append(item)\n",
    "    return lst\n",
    "\n",
    "print(add_item(1))  # 输出 [1]\n",
    "print(add_item(2))  # 输出 [2]\n"
   ]
  }
 ],
 "metadata": {
  "kernelspec": {
   "display_name": "Python 3",
   "language": "python",
   "name": "python3"
  },
  "language_info": {
   "codemirror_mode": {
    "name": "ipython",
    "version": 3
   },
   "file_extension": ".py",
   "mimetype": "text/x-python",
   "name": "python",
   "nbconvert_exporter": "python",
   "pygments_lexer": "ipython3",
   "version": "3.9.6"
  }
 },
 "nbformat": 4,
 "nbformat_minor": 2
}

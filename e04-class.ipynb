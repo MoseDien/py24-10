{
 "cells": [
  {
   "cell_type": "markdown",
   "metadata": {},
   "source": [
    "# class\n"
   ]
  },
  {
   "cell_type": "code",
   "execution_count": 1,
   "metadata": {},
   "outputs": [
    {
     "name": "stdout",
     "output_type": "stream",
     "text": [
      "8\n"
     ]
    }
   ],
   "source": [
    "# 1. 一个简单的类\n",
    "class SimpleClass:\n",
    "    count = 0  # 2. 类变量 - 所有实例共享，相当于静态变量\n",
    "\n",
    "    def __init__(self, name):\n",
    "        self.name = name\n",
    "        SimpleClass.count += 1 # 每次实例化，类变量加1\n",
    "\n",
    "    def greet(self):\n",
    "        return f\"Hello, {self.name}!\"\n",
    "    \n",
    "    # 3. 静态方法 - \n",
    "    @staticmethod\n",
    "    def add(a, b):\n",
    "        return a + b\n",
    "\n",
    "\n",
    "result = SimpleClass.add(5, 3)  # 8\n",
    "print(result)\n"
   ]
  },
  {
   "cell_type": "markdown",
   "metadata": {},
   "source": [
    "## 4. 数据类 (Dataclass)\n",
    "- 在 Python 3.7+ 中，可以使用 @dataclass 简化属性定义。"
   ]
  },
  {
   "cell_type": "code",
   "execution_count": 3,
   "metadata": {},
   "outputs": [
    {
     "name": "stdout",
     "output_type": "stream",
     "text": [
      "DataClassExample(name='Alice', age=25)\n"
     ]
    }
   ],
   "source": [
    "from dataclasses import dataclass\n",
    "\n",
    "@dataclass\n",
    "class DataClassExample:\n",
    "    name: str\n",
    "    age: int\n",
    "\n",
    "# 自动生成 __init__、__repr__ 等方法\n",
    "person = DataClassExample(name=\"Alice\", age=25)\n",
    "print(person)  # DataClassExample(name='Alice', age=25)\n"
   ]
  },
  {
   "cell_type": "code",
   "execution_count": null,
   "metadata": {},
   "outputs": [],
   "source": [
    "# 5. 类的继承\n",
    "class Parent:\n",
    "    def __init__(self, name):\n",
    "        self.name = name\n",
    "\n",
    "    def greet(self):\n",
    "        return f\"Hello, {self.name}!\"\n",
    "\n",
    "class Child(Parent):\n",
    "    def greet(self):\n",
    "        return f\"Hi, {self.name}! Welcome back.\"\n",
    "\n",
    "# 使用\n",
    "parent = Parent(\"John\")\n",
    "child = Child(\"Alice\")\n",
    "print(parent.greet())  # Hello, John!\n",
    "print(child.greet())   # Hi, Alice! Welcome back.\n"
   ]
  },
  {
   "cell_type": "code",
   "execution_count": null,
   "metadata": {},
   "outputs": [],
   "source": [
    "# 继承\n",
    "class MyList(list):\n",
    "    def print_all(self):\n",
    "        print(\"Items:\", self)\n",
    "\n",
    "my_list = MyList([1, 2, 3])\n",
    "my_list.print_all()  # 输出: Items: [1, 2, 3]\n"
   ]
  },
  {
   "cell_type": "code",
   "execution_count": null,
   "metadata": {},
   "outputs": [],
   "source": [
    "## 6.私有属性和方法\n",
    "- 通过约定（添加下划线 _ 或 __）实现私有化。"
   ]
  },
  {
   "cell_type": "code",
   "execution_count": null,
   "metadata": {},
   "outputs": [],
   "source": [
    "class PrivateClass:\n",
    "    def __init__(self, name):\n",
    "        self.__name = name  # 私有属性\n",
    "\n",
    "    def __secret_method(self):  # 私有方法\n",
    "        return \"This is a secret!\"\n",
    "\n",
    "    def reveal_secret(self):\n",
    "        return self.__secret_method()\n"
   ]
  },
  {
   "cell_type": "markdown",
   "metadata": {},
   "source": [
    "## 7. 抽象类\n",
    "- 通过 abc 模块定义接口，要求子类实现特定方法。"
   ]
  },
  {
   "cell_type": "code",
   "execution_count": 4,
   "metadata": {},
   "outputs": [
    {
     "name": "stdout",
     "output_type": "stream",
     "text": [
      "Doing something concrete!\n"
     ]
    }
   ],
   "source": [
    "from abc import ABC, abstractmethod\n",
    "\n",
    "class AbstractBase(ABC):\n",
    "    @abstractmethod\n",
    "    def do_something(self):\n",
    "        pass\n",
    "\n",
    "class ConcreteClass(AbstractBase):\n",
    "    def do_something(self):\n",
    "        return \"Doing something concrete!\"\n",
    "\n",
    "# 实例化\n",
    "obj = ConcreteClass()\n",
    "print(obj.do_something())  # Doing something concrete!\n"
   ]
  },
  {
   "cell_type": "code",
   "execution_count": null,
   "metadata": {},
   "outputs": [],
   "source": [
    "## 8. 单例模式\n",
    "#- 实现类的单例模式，保证只有一个实例。使用的是类的变量\n",
    "#- 通过 __new__ 方法实现\n",
    "\n",
    "class Singleton:\n",
    "    _instance = None\n",
    "\n",
    "    def __new__(cls, *args, **kwargs):\n",
    "        if not cls._instance:\n",
    "            cls._instance = super().__new__(cls)\n",
    "        return cls._instance\n"
   ]
  },
  {
   "cell_type": "code",
   "execution_count": null,
   "metadata": {},
   "outputs": [],
   "source": [
    "# 9. 运算符重载\n",
    "# 通过重载特殊方法（如 __str__、__add__）自定义类的行为。\n",
    "class Vector:\n",
    "    def __init__(self, x, y):\n",
    "        self.x = x\n",
    "        self.y = y\n",
    "\n",
    "    def __add__(self, other):\n",
    "        return Vector(self.x + other.x, self.y + other.y)\n",
    "\n",
    "    def __str__(self):\n",
    "        return f\"Vector({self.x}, {self.y})\"\n",
    "\n",
    "v1 = Vector(1, 2)\n",
    "v2 = Vector(3, 4)\n",
    "print(v1 + v2)  # Vector(4, 6)\n"
   ]
  },
  {
   "cell_type": "code",
   "execution_count": null,
   "metadata": {},
   "outputs": [],
   "source": [
    "# 10. 使用属性装饰器\n",
    "# 用 @property 管理类的属性，提供 getter 和 setter。\n",
    "class Person:\n",
    "    def __init__(self, name):\n",
    "        self._name = name\n",
    "\n",
    "    @property\n",
    "    def name(self):\n",
    "        return self._name\n",
    "\n",
    "    @name.setter\n",
    "    def name(self, value):\n",
    "        if not value:\n",
    "            raise ValueError(\"Name cannot be empty\")\n",
    "        self._name = value\n",
    "\n",
    "# 使用\n",
    "p = Person(\"Alice\")\n",
    "print(p.name)  # Alice\n",
    "p.name = \"Bob\"\n",
    "print(p.name)  # Bob\n"
   ]
  }
 ],
 "metadata": {
  "kernelspec": {
   "display_name": "Jupiter39",
   "language": "python",
   "name": "jupiter39"
  },
  "language_info": {
   "codemirror_mode": {
    "name": "ipython",
    "version": 3
   },
   "file_extension": ".py",
   "mimetype": "text/x-python",
   "name": "python",
   "nbconvert_exporter": "python",
   "pygments_lexer": "ipython3",
   "version": "3.9.6"
  }
 },
 "nbformat": 4,
 "nbformat_minor": 2
}

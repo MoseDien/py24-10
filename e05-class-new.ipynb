{
 "cells": [
  {
   "cell_type": "markdown",
   "metadata": {},
   "source": [
    "# class的高级用法 - new"
   ]
  },
  {
   "cell_type": "markdown",
   "metadata": {},
   "source": [
    "## 1. new\n",
    "- 在 Python 中，__new__ 是一个特殊方法，负责创建类的实例，是实例化一个对象的第一步。它与 __init__ 的作用不同：\n",
    "\n",
    "```sh\n",
    "__new__：负责创建实例。\n",
    "__init__：负责初始化实例。\n",
    "```"
   ]
  },
  {
   "cell_type": "code",
   "execution_count": 1,
   "metadata": {},
   "outputs": [
    {
     "name": "stdout",
     "output_type": "stream",
     "text": [
      "Calling __new__\n",
      "Calling __init__\n"
     ]
    }
   ],
   "source": [
    "class MyClass:\n",
    "    def __new__(cls, *args, **kwargs):\n",
    "        print(\"Calling __new__\")\n",
    "        instance = super().__new__(cls)  # 创建实例\n",
    "        return instance\n",
    "\n",
    "    def __init__(self, value):\n",
    "        print(\"Calling __init__\")\n",
    "        self.value = value\n",
    "\n",
    "# 实例化\n",
    "obj = MyClass(10)\n",
    "# 输出：\n",
    "# Calling __new__\n",
    "# Calling __init__\n"
   ]
  },
  {
   "cell_type": "markdown",
   "metadata": {},
   "source": [
    "## __new__ 与 __init__ 的区别\n",
    "- 特点\t__new__\t__init__\n",
    "- 触发时机\t在创建对象时触发（实例化的第一步）。\t在实例被创建后触发（实例化的第二步）。\n",
    "- 参数\t接收类本身作为第一个参数。\t接收实例本身作为第一个参数。\n",
    "- 功能\t负责控制实例的创建。\t负责初始化实例。\n",
    "- 返回值\t必须返回类的实例。\t不返回任何值（返回 None）。\n",
    "\n",
    "可以用new的这种特点，来进行更精细的控制，比如\n",
    "- 实现单例模式\n",
    "- 多例，可以根据条件选择返回不同的类实例\n",
    "- 创建不可变类型的子类 - int、str 是不可变类型，必须通过 __new__ 初始化。\n",
    "- 拦截和修改实例创建，可以在创建实例时注入一些逻辑。"
   ]
  },
  {
   "cell_type": "code",
   "execution_count": null,
   "metadata": {},
   "outputs": [
    {
     "name": "stdout",
     "output_type": "stream",
     "text": [
      "Calling __init__ obj1\n",
      "Calling __init__ obj2\n",
      "True\n",
      "obj2\n",
      "obj2\n"
     ]
    }
   ],
   "source": [
    "# 实现单例模式\n",
    "# 需要留意到的是，__init__ 会调用多次\n",
    "class Singleton:\n",
    "    _instance = None\n",
    "\n",
    "    def __new__(cls, *args, **kwargs):\n",
    "        if not cls._instance:\n",
    "            cls._instance = super().__new__(cls)\n",
    "        return cls._instance\n",
    "    \n",
    "    def __init__(self, name):\n",
    "        self.name = name\n",
    "        print(\"Calling __init__\", name)\n",
    "\n",
    "# 测试单例\n",
    "obj1 = Singleton(\"obj1\")\n",
    "obj2 = Singleton(\"obj2\")\n",
    "print(obj1 is obj2)  # True\n",
    "print(obj1.name)  # obj2\n",
    "print(obj2.name)  # obj2\n"
   ]
  },
  {
   "cell_type": "code",
   "execution_count": null,
   "metadata": {},
   "outputs": [],
   "source": [
    "# 创建不可变类型的子类\n",
    "class MyInt(int):\n",
    "    def __new__(cls, value):\n",
    "        print(\"Creating MyInt instance\")\n",
    "        return super().__new__(cls, value)\n",
    "\n",
    "# 使用\n",
    "obj = MyInt(10)\n",
    "print(obj)  # 输出 10\n"
   ]
  },
  {
   "cell_type": "code",
   "execution_count": null,
   "metadata": {},
   "outputs": [],
   "source": [
    "# new 返回 None，不会调用 __init__\n",
    "\n",
    "class MyClass:\n",
    "    def __new__(cls, *args, **kwargs):\n",
    "        return None  # 不返回实例\n",
    "    \n",
    "    def __init__(self, value):\n",
    "        print(\"This will never be called\")\n",
    "\n",
    "obj = MyClass(10)  # __init__ 不会被调用\n"
   ]
  }
 ],
 "metadata": {
  "kernelspec": {
   "display_name": "Python 3",
   "language": "python",
   "name": "python3"
  },
  "language_info": {
   "codemirror_mode": {
    "name": "ipython",
    "version": 3
   },
   "file_extension": ".py",
   "mimetype": "text/x-python",
   "name": "python",
   "nbconvert_exporter": "python",
   "pygments_lexer": "ipython3",
   "version": "3.9.6"
  }
 },
 "nbformat": 4,
 "nbformat_minor": 2
}

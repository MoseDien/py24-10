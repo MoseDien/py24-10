{
 "cells": [
  {
   "cell_type": "markdown",
   "metadata": {},
   "source": [
    "## day 4: Strings\n",
    "- string 也是一个字符的list，可以使用list的方法\n",
    "- string 的format的不同方法，3.6之后使用f-string\n",
    "- 常见方法，index和find，join方法\n",
    "- "
   ]
  },
  {
   "cell_type": "code",
   "execution_count": 2,
   "metadata": {},
   "outputs": [
    {
     "name": "stdout",
     "output_type": "stream",
     "text": [
      "I am a teacher and enjoy teaching.\n",
      "I didn't find anything as rewarding as empowering people.\n",
      "That is why I created 30 days of python.\n",
      "I am a teacher and enjoy teaching.\n",
      "I didn't find anything as rewarding as empowering people.\n",
      "That is why I created 30 days of python.\n"
     ]
    }
   ],
   "source": [
    "# 多行字符串，三个单引号或三个双引号，仅仅是引号不允许换行\n",
    "# 注意 - 里面的换行符是字符串的一部分，而不会被忽略\n",
    "multiline_string = '''I am a teacher and enjoy teaching.\n",
    "I didn't find anything as rewarding as empowering people.\n",
    "That is why I created 30 days of python.'''\n",
    "print(multiline_string)\n",
    "\n",
    "# Another way of doing the same thing\n",
    "multiline_string = \"\"\"I am a teacher and enjoy teaching.\n",
    "I didn't find anything as rewarding as empowering people.\n",
    "That is why I created 30 days of python.\"\"\"\n",
    "print(multiline_string)\n",
    "\n",
    "# error\n",
    "# one_string = \"I am a teacher and enjoy teaching.\n",
    "# I didn't find\"\n"
   ]
  },
  {
   "cell_type": "markdown",
   "metadata": {},
   "source": [
    "\n",
    "\\n: new line\n",
    "\\t: Tab means(8 spaces)\n",
    "\\\\: Back slash\n",
    "\\': Single quote (')\n",
    "\\\": Double quote (\")"
   ]
  },
  {
   "cell_type": "code",
   "execution_count": 1,
   "metadata": {},
   "outputs": [
    {
     "name": "stdout",
     "output_type": "stream",
     "text": [
      "I hope everyone is enjoying the Python Challenge.\n",
      "Are you ?\n",
      "Days\tTopics\tExercises\n",
      "This is a backslash  symbol (\\)\n",
      "In every programming language it starts with \"Hello, World!\"\n",
      "Day 1\t5\t5\n",
      "Day 2\t6\t20\n",
      "Day 3\t5\t23\n",
      "Day 4\t1\t35\n"
     ]
    }
   ],
   "source": [
    "# 字符串的转义 - escape sequence\n",
    "print('I hope everyone is enjoying the Python Challenge.\\nAre you ?') # line break\n",
    "print('Days\\tTopics\\tExercises') # adding tab space or 4 spaces \n",
    "print('This is a backslash  symbol (\\\\)') # To write a backslash\n",
    "print('In every programming language it starts with \\\"Hello, World!\\\"') # to write a double quote inside a single quote"
   ]
  },
  {
   "cell_type": "code",
   "execution_count": 8,
   "metadata": {},
   "outputs": [
    {
     "name": "stdout",
     "output_type": "stream",
     "text": [
      "Day 1\t5\t5\n",
      "Day 2\t6\t20\n",
      "Day 3\t5\t23\n",
      "Day 4\t1\t35\n",
      "Name\tAge\tCountry\tCity\n",
      "Asabeneh\t250\tFinland\tHelsinki\n",
      "Name        Age         Country     City\n",
      "Asabeneh    250         Finland     Helsinki\n"
     ]
    }
   ],
   "source": [
    "# 使用\\t用于格式化输出\n",
    "print('Day 1\\t5\\t5')\n",
    "print('Day 2\\t6\\t20')\n",
    "print('Day 3\\t5\\t23')\n",
    "print('Day 4\\t1\\t35')\n",
    "\n",
    "# expandtabs()函数 - 设置tab的宽度，默认是8\n",
    "# 从0开始计算，每8个字符为一个tab\n",
    "\n",
    "Fullname = 'Asabeneh'\n",
    "age = 250\n",
    "country = 'Finland'\n",
    "city = 'Helsinki'\n",
    "header = 'Name\\tAge\\tCountry\\tCity'\n",
    "info = '{}\\t{}\\t{}\\t{}'.format(Fullname, age, country, city)\n",
    "print(header) # 默认是8个字符，可以排开\n",
    "print(info)   # 默认是8个字符，但第一个长度就是8，因此\n",
    "print(header.expandtabs(12)) # 调整tab的宽度为12 - \n",
    "print(info.expandtabs(12))"
   ]
  },
  {
   "cell_type": "code",
   "execution_count": 5,
   "metadata": {},
   "outputs": [
    {
     "name": "stdout",
     "output_type": "stream",
     "text": [
      "I am Asabeneh Yetayeh. I teach Python\n",
      "The following are python libraries:['Django', 'Flask', 'NumPy', 'Matplotlib', 'Pandas']\n"
     ]
    }
   ],
   "source": [
    "# string format - python 2.x: % operator\n",
    "# python2.0的时候，使用%来格式化字符串 - 现在不推荐使用\n",
    "first_name = 'Asabeneh'\n",
    "last_name = 'Yetayeh'\n",
    "language = 'Python'\n",
    "formated_string = 'I am %s %s. I teach %s' %(first_name, last_name, language)\n",
    "print(formated_string)\n",
    "\n",
    "# Strings  and numbers\n",
    "radius = 10\n",
    "pi = 3.14\n",
    "area = pi * radius ** 2\n",
    "formated_string = 'The area of circle with a radius %d is %.2f.' %(radius, area) # 2 refers the 2 significant digits after the point\n",
    "\n",
    "python_libraries = ['Django', 'Flask', 'NumPy', 'Matplotlib','Pandas']\n",
    "formated_string = 'The following are python libraries:%s' % (python_libraries)\n",
    "print(formated_string) # \"The following are python libraries:['Django', 'Flask', 'NumPy', 'Matplotlib','Pandas']\""
   ]
  },
  {
   "cell_type": "code",
   "execution_count": 9,
   "metadata": {},
   "outputs": [
    {
     "name": "stdout",
     "output_type": "stream",
     "text": [
      "I am Asabeneh Yetayeh. I teach Python\n",
      "The area of a circle with a radius 10 is 314.00.\n"
     ]
    }
   ],
   "source": [
    "# python3.0的时候，使用{}来格式化字符串 - place holder and format method\n",
    "# {:2f} - 保留两位小数\n",
    "\n",
    "first_name = 'Asabeneh'\n",
    "last_name = 'Yetayeh'\n",
    "language = 'Python'\n",
    "formated_string = 'I am {} {}. I teach {}'.format(first_name, last_name, language)\n",
    "print(formated_string)\n",
    "\n",
    "# Strings  and numbers\n",
    "radius = 10\n",
    "pi = 3.14\n",
    "area = pi * radius ** 2\n",
    "formated_string = 'The area of a circle with a radius {} is {:.2f}.'.format(radius, area) # 2 digits after decimal\n",
    "print(formated_string)\n"
   ]
  },
  {
   "cell_type": "code",
   "execution_count": 11,
   "metadata": {},
   "outputs": [
    {
     "name": "stdout",
     "output_type": "stream",
     "text": [
      "4 + 3 = 7\n",
      "4 / 3 = 1.33\n",
      "4 % 3 = 1\n"
     ]
    }
   ],
   "source": [
    "# python3.6+的时候，使用f来格式化字符串 - String Interpolation / f-Strings\n",
    "a = 4\n",
    "b = 3\n",
    "print(f'{a} + {b} = {a +b}')\n",
    "print(f'{a} / {b} = {a / b:.2f}')\n",
    "print(f'{a} % {b} = {a % b}')"
   ]
  },
  {
   "cell_type": "code",
   "execution_count": 8,
   "metadata": {},
   "outputs": [
    {
     "name": "stdout",
     "output_type": "stream",
     "text": [
      "P\n",
      "y\n",
      "t\n",
      "h\n",
      "o\n",
      "n\n"
     ]
    }
   ],
   "source": [
    "# 拆包字符串 - unpacking characters\n",
    "language = 'Python'\n",
    "a,b,c,d,e,f = language # unpacking sequence characters into variables\n",
    "print(a) # P\n",
    "print(b) # y\n",
    "print(c) # t\n",
    "print(d) # h\n",
    "print(e) # o\n",
    "print(f) # n"
   ]
  },
  {
   "cell_type": "code",
   "execution_count": 9,
   "metadata": {},
   "outputs": [
    {
     "name": "stdout",
     "output_type": "stream",
     "text": [
      "P\n",
      "y\n",
      "n\n"
     ]
    }
   ],
   "source": [
    "# 字符串可以理解为一个字符数组 - 因此可以使用索引来访问\n",
    "# access characters in a string by index\n",
    "language = 'Python'\n",
    "first_letter = language[0]\n",
    "print(first_letter) # P\n",
    "second_letter = language[1]\n",
    "print(second_letter) # y\n",
    "last_index = len(language) - 1\n",
    "last_letter = language[last_index]\n",
    "print(last_letter) # n\n",
    "\n",
    "# 负索引 - negative indexing\n",
    "language = 'Python'\n",
    "last_letter = language[-1]\n",
    "print(last_letter) # n\n",
    "second_last = language[-2]\n",
    "print(second_last) # o"
   ]
  },
  {
   "cell_type": "code",
   "execution_count": 11,
   "metadata": {},
   "outputs": [
    {
     "name": "stdout",
     "output_type": "stream",
     "text": [
      "Pyt\n",
      "hon\n",
      "hon\n",
      "hon\n"
     ]
    }
   ],
   "source": [
    "# 字符串切片 - slicing\n",
    "language = 'Python'\n",
    "first_three = language[0:3] # starts at zero index and up to 3 but not include 3\n",
    "print(first_three) #Pyt\n",
    "last_three = language[3:6]\n",
    "print(last_three) # hon\n",
    "# Another way\n",
    "last_three = language[-3:]\n",
    "print(last_three)   # hon\n",
    "last_three = language[3:]\n",
    "print(last_three)   # hon"
   ]
  },
  {
   "cell_type": "code",
   "execution_count": 12,
   "metadata": {},
   "outputs": [
    {
     "name": "stdout",
     "output_type": "stream",
     "text": [
      "!dlroW ,olleH\n"
     ]
    }
   ],
   "source": [
    "# 反转一个字符串 - reversing a string - 这个算法非常有意思\n",
    "greeting = 'Hello, World!'\n",
    "print(greeting[::-1]) # !dlroW ,olleH\n",
    "\n",
    "# 截取字符串 \n",
    "language = 'Python'\n",
    "pto = language[0:6:2] #\n",
    "print(pto) # Pto"
   ]
  },
  {
   "cell_type": "code",
   "execution_count": 13,
   "metadata": {},
   "outputs": [
    {
     "name": "stdout",
     "output_type": "stream",
     "text": [
      "Thirty days of python\n",
      "Thirty Days Of Python\n"
     ]
    },
    {
     "ename": "TypeError",
     "evalue": "count() takes at least 1 argument (0 given)",
     "output_type": "error",
     "traceback": [
      "\u001b[0;31m---------------------------------------------------------------------------\u001b[0m",
      "\u001b[0;31mTypeError\u001b[0m                                 Traceback (most recent call last)",
      "Cell \u001b[0;32mIn[13], line 14\u001b[0m\n\u001b[1;32m     11\u001b[0m \u001b[38;5;28mprint\u001b[39m(challenge\u001b[38;5;241m.\u001b[39mtitle()) \u001b[38;5;66;03m# 'Thirty days of python'\u001b[39;00m\n\u001b[1;32m     13\u001b[0m challenge \u001b[38;5;241m=\u001b[39m \u001b[38;5;124m'\u001b[39m\u001b[38;5;124mthirty days of python\u001b[39m\u001b[38;5;124m'\u001b[39m\n\u001b[0;32m---> 14\u001b[0m \u001b[38;5;28mprint\u001b[39m(\u001b[43mchallenge\u001b[49m\u001b[38;5;241;43m.\u001b[39;49m\u001b[43mcount\u001b[49m\u001b[43m(\u001b[49m\u001b[43m)\u001b[49m) \u001b[38;5;66;03m# 3\u001b[39;00m\n\u001b[1;32m     15\u001b[0m \u001b[38;5;28mprint\u001b[39m(challenge\u001b[38;5;241m.\u001b[39mcount(\u001b[38;5;124m'\u001b[39m\u001b[38;5;124my\u001b[39m\u001b[38;5;124m'\u001b[39m)) \u001b[38;5;66;03m# 3\u001b[39;00m\n\u001b[1;32m     16\u001b[0m \u001b[38;5;28mprint\u001b[39m(challenge\u001b[38;5;241m.\u001b[39mcount(\u001b[38;5;124m'\u001b[39m\u001b[38;5;124my\u001b[39m\u001b[38;5;124m'\u001b[39m, \u001b[38;5;241m7\u001b[39m, \u001b[38;5;241m14\u001b[39m)) \u001b[38;5;66;03m# 1, \u001b[39;00m\n",
      "\u001b[0;31mTypeError\u001b[0m: count() takes at least 1 argument (0 given)"
     ]
    }
   ],
   "source": [
    "# 一些字符串的方法\n",
    "# capitalize() - 将字符串的第一个字符大写\n",
    "# title() - 将字符串中每个单词的第一个字符大写\n",
    "# count(\"\") - 计算字符串中某个字符出现的次数\n",
    "# endswith(\"\") - 判断字符串是否以某个字符结尾\n",
    "# startswith(\"\") - 判断字符串是否以某个字符开头\n",
    "\n",
    "challenge = 'thirty days of python'\n",
    "print(challenge.capitalize()) # 'Thirty days of python'\n",
    "\n",
    "print(challenge.title()) # 'Thirty days of python'\n",
    "\n",
    "challenge = 'thirty days of python'\n",
    "print(challenge.count('y')) # 3\n",
    "print(challenge.count('y', 7, 14)) # 1, \n",
    "print(challenge.count('th')) # 2`\n",
    "\n",
    "challenge = 'thirty days of python'\n",
    "print(challenge.endswith('on'))   # True\n",
    "print(challenge.endswith('tion')) # False\n",
    "\n",
    "challenge = 'thirty days of python'\n",
    "print(challenge.startswith('thirty')) # True\n",
    "\n",
    "challenge = '30 days of python'\n",
    "print(challenge.startswith('thirty')) # False\n"
   ]
  },
  {
   "cell_type": "code",
   "execution_count": 7,
   "metadata": {},
   "outputs": [
    {
     "name": "stdout",
     "output_type": "stream",
     "text": [
      "5\n",
      "0\n",
      "16\n"
     ]
    }
   ],
   "source": [
    "# find: it gives the index of the first occurrence of the substring\n",
    "# find vs index: 如果没有找到子字符串，find返回-1，而index会引发异常\n",
    "challenge = 'thirty days of python'\n",
    "print(challenge.find('y'))  # 5\n",
    "print(challenge.find('th')) # 0\n",
    "print(challenge.find('yt'))  # 16\n",
    "\n",
    "# index: it gives the index of the first occurrence of the substring\n",
    "# 返回第一个匹配的索引，如果没有找到，会引发异常\n",
    "challenge = 'thirty days of python'\n",
    "sub_string = 'da'\n",
    "print(challenge.index(sub_string))  # 7\n",
    "print(challenge.index(sub_string, 9)) # error，从9开始找"
   ]
  },
  {
   "cell_type": "code",
   "execution_count": null,
   "metadata": {},
   "outputs": [],
   "source": [
    "# isalnum: returns True if all characters in the string are alphanumeric \n",
    "# 仅仅包含字母和数字\n",
    "challenge = '30DaysPython'\n",
    "print(challenge.isalnum()) # True\n",
    "\n",
    "# 空格不是字母和数字\n",
    "challenge = 'thirty days of python'\n",
    "print(challenge.isalnum()) # False, space is not an alphanumeric character"
   ]
  },
  {
   "cell_type": "code",
   "execution_count": 5,
   "metadata": {},
   "outputs": [
    {
     "name": "stdout",
     "output_type": "stream",
     "text": [
      "12.3 False False False\n",
      "-12 False False False\n",
      "123 True True True\n",
      "⁰³⁸ False True True\n",
      "⓪③⑧ False True True\n",
      "ⅠⅢⅧ False False True\n",
      "壹貳參 False False True\n",
      "½ False False True\n",
      "一二三 False False True\n"
     ]
    }
   ],
   "source": [
    "# 这三个方法都是判断字符串是否全部为数字，区别在于某些特殊字符unicode\n",
    "# 小数点和正负号都不是数字 - 三者都会返回False\n",
    "# https://stackoverflow.com/a/54912545/2537867\n",
    "\n",
    "# isdecimal: 范围最小 - 不能处理上标，但能识别全角数字-０３８\n",
    "# isdigit: 能处理上标，以及⓪③⑧\"\n",
    "# isnumeric: 范围最大 - 包括罗马数字，甚至可以识别中文的-壹貳參肆伍陸柒捌玖拾佰仟\n",
    "\n",
    "# unicode属性里面有个Numeric_Type=Digit or Numeric_Type=Decimal.\n",
    "\n",
    "challenges = [\"12.3\", \"-12\"]\n",
    "for c in challenges:\n",
    "    print(c, c.isdecimal(), c.isdigit(), c.isnumeric())\n",
    "\n",
    "challenges = [\"123\", \"⁰³⁸\", \"⓪③⑧\", \"ⅠⅢⅧ\", \"壹貳參\",'\\u00BD', '一二三']\n",
    "for c in challenges:\n",
    "    print(c, c.isdecimal(), c.isdigit(), c.isnumeric())"
   ]
  },
  {
   "cell_type": "code",
   "execution_count": null,
   "metadata": {},
   "outputs": [],
   "source": [
    "# isidentifier - returns True if the string is a valid identifier\n",
    "# 一个有效的标识符是一个以字母或下划线开头，后面跟着任意数量的字母，数字或下划线\n",
    "challenge = '30DaysOfPython'\n",
    "print(challenge.isidentifier()) # False, because it starts with a number\n",
    "challenge = 'thirty_days_of_python'\n",
    "print(challenge.isidentifier()) # True"
   ]
  },
  {
   "cell_type": "code",
   "execution_count": 23,
   "metadata": {},
   "outputs": [
    {
     "name": "stdout",
     "output_type": "stream",
     "text": [
      "HTML CSS JavaScript React\n"
     ]
    }
   ],
   "source": [
    "# join是重要的字符串方法，它将字符串列表连接在一起\n",
    "# 如下这个方法也许是最常用的\n",
    "web_tech = ['HTML', 'CSS', 'JavaScript', 'React']\n",
    "result = ' '.join(web_tech)\n",
    "print(result) # 'HTML CSS JavaScript React'"
   ]
  },
  {
   "cell_type": "code",
   "execution_count": 28,
   "metadata": {},
   "outputs": [
    {
     "name": "stdout",
     "output_type": "stream",
     "text": [
      "irty days of py\n",
      "string: '  shark  '\n",
      "remove leading: 'shark  '\n",
      "remove trailing: '  shark'\n",
      "remove both: 'shark'\n"
     ]
    }
   ],
   "source": [
    "# strip如果没有参数，它会删除字符串两边的空格，以及lstrip和rstrip\n",
    "# 如果带参数，它会删除参数中的字符，直到遇到不是参数中的字符为止\n",
    "\n",
    "# 例如，删除了字符串里面所有的 n，t，h，o\n",
    "challenge = 'thirty days of pythoonnn'\n",
    "print(challenge.strip('noth')) # 'irty days of py'\n",
    "\n",
    "s1 = '  shark  '\n",
    "print(f\"string: '{s1}'\")\n",
    "\n",
    "s1_remove_leading = s1.lstrip()\n",
    "print(f\"remove leading: '{s1_remove_leading}'\")\n",
    "\n",
    "s1_remove_trailing = s1.rstrip()\n",
    "print(f\"remove trailing: '{s1_remove_trailing}'\")\n",
    "\n",
    "s1_remove_both = s1.strip()\n",
    "print(f\"remove both: '{s1_remove_both}'\")"
   ]
  },
  {
   "cell_type": "code",
   "execution_count": 25,
   "metadata": {},
   "outputs": [
    {
     "name": "stdout",
     "output_type": "stream",
     "text": [
      "Thirty Days Of Python\n"
     ]
    }
   ],
   "source": [
    "# 大小写\n",
    "challenge = 'thirty days of python'\n",
    "print(challenge.islower()) # True\n",
    "challenge = 'Thirty days of python'\n",
    "print(challenge.islower()) # False\n",
    "\n",
    "challenge = 'thirty days of python'\n",
    "print(challenge.isupper()) #  False\n",
    "challenge = 'THIRTY DAYS OF PYTHON'\n",
    "print(challenge.isupper()) # True\n",
    "\n",
    "# 单词首字母大写\n",
    "challenge = 'thirty days of python'\n",
    "print(challenge.title()) # Thirty Days Of Python\n",
    "\n",
    "# 将字符串里面字母大小写互换\n",
    "challenge = 'thirty days of python'\n",
    "print(challenge.swapcase())   # THIRTY DAYS OF PYTHON\n",
    "challenge = 'Thirty Days Of Python'\n",
    "print(challenge.swapcase())  # tHIRTY dAYS oF pYTHON"
   ]
  }
 ],
 "metadata": {
  "kernelspec": {
   "display_name": "bel-llm-jupiter-2",
   "language": "python",
   "name": "bel-llm-jupiter-2"
  },
  "language_info": {
   "codemirror_mode": {
    "name": "ipython",
    "version": 3
   },
   "file_extension": ".py",
   "mimetype": "text/x-python",
   "name": "python",
   "nbconvert_exporter": "python",
   "pygments_lexer": "ipython3",
   "version": "3.11.6"
  }
 },
 "nbformat": 4,
 "nbformat_minor": 2
}

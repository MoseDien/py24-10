{
 "cells": [
  {
   "cell_type": "markdown",
   "metadata": {},
   "source": [
    "# Type Hinting\n",
    "在 Python 中，可以通过 类型注解（Type Hinting） 为函数添加类型。\n",
    "- `类型注解不会强制执行类型检查`，但它提供了更清晰的代码文档，并帮助工具（如 IDE 和静态类型检查工具 mypy）检测潜在问题。\n",
    "\n",
    "```sh\n",
    "def 函数名(参数1: 参数类型, 参数2: 参数类型) -> 返回值类型:\n",
    "    # 函数体\n",
    "    pass\n",
    "\n",
    "```"
   ]
  },
  {
   "cell_type": "code",
   "execution_count": 4,
   "metadata": {},
   "outputs": [],
   "source": [
    "# 1. 为函数参数和返回值添加类型注解\n",
    "def add(x: int, y: int) -> int:\n",
    "    return x + y\n",
    "\n",
    "def greet(name: str) -> str:\n",
    "    return f\"Hello, {name}!\"\n",
    "\n",
    "\n",
    "# 2. 使用 Union 指定多个可能类型。\n",
    "from typing import Union\n",
    "\n",
    "def double(value: Union[int, float]) -> Union[int, float]:\n",
    "    return value * 2\n",
    "\n",
    "\n",
    "# 3. 为容器添加类型 可以为列表、字典、元组等容器指定元素类型。\n",
    "from typing import List, Dict, Tuple\n",
    "\n",
    "def process_items(items: List[int]) -> Dict[str, int]:\n",
    "    return {\"count\": len(items), \"sum\": sum(items)}\n",
    "\n",
    "def get_coordinates() -> Tuple[float, float]:\n",
    "    return (1.23, 4.56)\n",
    "\n",
    "# 4. 可选参数 使用 Optional 指定参数可以是特定类型或 None。\n",
    "from typing import Optional\n",
    "def find_item(item_id: int, description: Optional[str] = None) -> str:\n",
    "    if description:\n",
    "        return f\"Item {item_id}: {description}\"\n",
    "    return f\"Item {item_id}\"\n",
    "\n",
    "# 5. 函数作为参数, 用 Callable 表示函数类型。\n",
    "from typing import Callable\n",
    "\n",
    "def operate(x: int, y: int, func: Callable[[int, int], int]) -> int:\n",
    "    return func(x, y)\n",
    "\n",
    "# 示例用法\n",
    "result = operate(5, 3, lambda a, b: a + b)  # result 为 8\n",
    "\n",
    "# 6. Python 3.10+ 的 | 语法\n",
    "# . 在 Python 3.10+ 中，可以用 | 替代 Union。\n",
    "# def double(value: int | float) -> int | float:\n",
    "#    return value * 2\n",
    "\n"
   ]
  },
  {
   "cell_type": "code",
   "execution_count": null,
   "metadata": {},
   "outputs": [],
   "source": []
  }
 ],
 "metadata": {
  "kernelspec": {
   "display_name": "Python 3",
   "language": "python",
   "name": "python3"
  },
  "language_info": {
   "codemirror_mode": {
    "name": "ipython",
    "version": 3
   },
   "file_extension": ".py",
   "mimetype": "text/x-python",
   "name": "python",
   "nbconvert_exporter": "python",
   "pygments_lexer": "ipython3",
   "version": "3.9.6"
  }
 },
 "nbformat": 4,
 "nbformat_minor": 2
}

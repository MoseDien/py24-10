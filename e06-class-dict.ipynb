{
 "cells": [
  {
   "cell_type": "markdown",
   "metadata": {},
   "source": [
    "# 类的 dict"
   ]
  },
  {
   "cell_type": "markdown",
   "metadata": {},
   "source": [
    "## 实例的 dict\n",
    "- 实例属性的存储：__dict__\n",
    "- 每个 Python 类的实例都有一个特殊的字典，名为 __dict__，用来存储所有实例的属性。\n",
    "__dict__ 是一个普通的 Python 字典，键是属性名，值是属性对应的值。"
   ]
  },
  {
   "cell_type": "code",
   "execution_count": null,
   "metadata": {},
   "outputs": [
    {
     "name": "stdout",
     "output_type": "stream",
     "text": [
      "{'x': 5, 'y': 10}\n",
      "{'x': 5, 'y': 10, 'z': 20}\n"
     ]
    }
   ],
   "source": [
    "\n",
    "class MyClass:\n",
    "    def __init__(self, x):\n",
    "        self.x = x\n",
    "        self.y = 10\n",
    "\n",
    "# 创建实例\n",
    "obj = MyClass(5)\n",
    "\n",
    "# 1. 查看实例的 __dict__，直接读\n",
    "print(obj.__dict__)  # {'x': 5, 'y': 10}\n",
    "\n",
    "# 2. 动态添加属性，不能直接写，需要通过属性\n",
    "obj.z = 20\n",
    "print(obj.__dict__)  # {'x': 5, 'y': 10, 'z': 20}\n"
   ]
  },
  {
   "cell_type": "markdown",
   "metadata": {},
   "source": [
    "## 类属性的存储：type.__dict__\n",
    "- 类的属性和方法（包括函数、类变量等）存储在类的 __dict__ 中。\n",
    "- 类的 __dict__ 是一个只读的字典映射（mappingproxy），不能直接修改，但可以通过类的语法动态添加或修改属性。\n",
    "- 也就是说类也有自己的 __dict__，这个 __dict__ 可以直接读，但写需要通过属性\n"
   ]
  },
  {
   "cell_type": "code",
   "execution_count": 2,
   "metadata": {},
   "outputs": [
    {
     "name": "stdout",
     "output_type": "stream",
     "text": [
      "{'__module__': '__main__', 'a': 100, '__init__': <function MyClass.__init__ at 0x10fea4670>, 'method': <function MyClass.method at 0x10fea4790>, '__dict__': <attribute '__dict__' of 'MyClass' objects>, '__weakref__': <attribute '__weakref__' of 'MyClass' objects>, '__doc__': None}\n",
      "300\n"
     ]
    }
   ],
   "source": [
    "class MyClass:\n",
    "    a = 100  # 类变量\n",
    "\n",
    "    def __init__(self):\n",
    "        self.b = 200\n",
    "\n",
    "    def method(self):\n",
    "        pass\n",
    "\n",
    "# 查看类的 __dict__\n",
    "print(MyClass.__dict__)\n",
    "# 输出：\n",
    "# {'__module__': '__main__', 'a': 100, '__init__': <function MyClass.__init__ at 0x...>, \n",
    "#  'method': <function MyClass.method at 0x...>, '__dict__': <attribute '__dict__' of 'MyClass' objects>, \n",
    "#  '__weakref__': <attribute '__weakref__' of 'MyClass' objects>, '__doc__': None}\n",
    "\n",
    "# 动态添加类变量\n",
    "MyClass.c = 300\n",
    "print(MyClass.__dict__['c'])  # 300\n"
   ]
  }
 ],
 "metadata": {
  "kernelspec": {
   "display_name": "Python 3",
   "language": "python",
   "name": "python3"
  },
  "language_info": {
   "codemirror_mode": {
    "name": "ipython",
    "version": 3
   },
   "file_extension": ".py",
   "mimetype": "text/x-python",
   "name": "python",
   "nbconvert_exporter": "python",
   "pygments_lexer": "ipython3",
   "version": "3.9.6"
  }
 },
 "nbformat": 4,
 "nbformat_minor": 2
}

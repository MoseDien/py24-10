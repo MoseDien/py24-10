{
 "cells": [
  {
   "cell_type": "markdown",
   "metadata": {},
   "source": [
    "# immutable & mutable\n"
   ]
  },
  {
   "cell_type": "markdown",
   "metadata": {},
   "source": [
    "## 不可变类型（Immutable）\n",
    "这些类型一旦创建，值就不能被修改。如果需要改变值，只能通过创建新的对象实现。\n",
    "\n",
    "常见不可变类型：数字类型：\n",
    "- int（整数）\n",
    "- float（浮点数）\n",
    "- complex（复数）\n",
    "\n",
    "字符串：\n",
    "- str\n",
    "\n",
    "元组：\n",
    "- tuple\n",
    "\n",
    "布尔值：\n",
    "- bool（True 和 False）\n",
    "\n",
    "frozenset：\n",
    "- 不可变的集合\n",
    "\n",
    "## 可变类型（Mutable）\n",
    "这些类型的值是可以被修改的，在原地修改值不会改变对象的内存地址。\n",
    "\n",
    "常见可变类型：\n",
    "- 列表：list\n",
    "- 字典：dict\n",
    "- 集合：set\n",
    "- 自定义的类（如果类中提供了可变的属性）"
   ]
  },
  {
   "cell_type": "code",
   "execution_count": null,
   "metadata": {},
   "outputs": [
    {
     "name": "stdout",
     "output_type": "stream",
     "text": [
      "4420733520\n",
      "4420733552\n",
      "4459637616\n",
      "4464902640\n"
     ]
    }
   ],
   "source": [
    "# 不可变对象 - 修改了变量的值，就是新建了一个对象，而不是修改原对象\n",
    "# 通过id()函数可以查看内存地址\n",
    "x = 10\n",
    "print(id(x))  # 输出对象的内存地址\n",
    "x = x + 1\n",
    "print(id(x))  # 新的值对应新的内存地址\n",
    "\n",
    "s = \"hello\"\n",
    "print(id(s))\n",
    "s += \" world\"  # 创建了一个新的字符串对象\n",
    "print(id(s))\n"
   ]
  },
  {
   "cell_type": "code",
   "execution_count": null,
   "metadata": {},
   "outputs": [
    {
     "name": "stdout",
     "output_type": "stream",
     "text": [
      "4463862720\n",
      "4463862720\n",
      "4465170688\n",
      "4465170688\n",
      "4464962880\n"
     ]
    }
   ],
   "source": [
    "# 可变对象 - 修改了变量的值，是在原地修改\n",
    "\n",
    "lst = [1, 2, 3]\n",
    "print(id(lst))  # 原始内存地址\n",
    "lst.append(4)   # 修改了列表\n",
    "print(id(lst))  # 地址不变\n",
    "\n",
    "d = {\"key\": \"value\"}\n",
    "print(id(d))\n",
    "d[\"new_key\"] = \"new_value\"\n",
    "print(id(d))  # 地址不变\n",
    "\n",
    "# 如果重新赋值，地址会改变 - \n",
    "lst = [4, 5, 6]\n",
    "print(id(lst))  # 地址变了\n"
   ]
  }
 ],
 "metadata": {
  "kernelspec": {
   "display_name": "Python 3",
   "language": "python",
   "name": "python3"
  },
  "language_info": {
   "codemirror_mode": {
    "name": "ipython",
    "version": 3
   },
   "file_extension": ".py",
   "mimetype": "text/x-python",
   "name": "python",
   "nbconvert_exporter": "python",
   "pygments_lexer": "ipython3",
   "version": "3.9.6"
  }
 },
 "nbformat": 4,
 "nbformat_minor": 2
}

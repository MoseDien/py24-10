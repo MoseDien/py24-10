{
 "cells": [
  {
   "cell_type": "markdown",
   "metadata": {},
   "source": [
    "# day 8: map | dictonary"
   ]
  },
  {
   "cell_type": "code",
   "execution_count": 2,
   "metadata": {},
   "outputs": [
    {
     "name": "stdout",
     "output_type": "stream",
     "text": [
      "7\n",
      "['JavaScript', 'React', 'Node', 'MongoDB', 'Python']\n",
      "JavaScript\n",
      "Space street\n",
      "Asabeneh\n",
      "Finland\n",
      "['JavaScript', 'React', 'Node', 'MongoDB', 'Python']\n",
      "None\n"
     ]
    }
   ],
   "source": [
    "person = {\n",
    "    'first_name':'Asabeneh',\n",
    "    'last_name':'Yetayeh',\n",
    "    'age':250,\n",
    "    'country':'Finland',\n",
    "    'is_marred':True,\n",
    "    'skills':['JavaScript', 'React', 'Node', 'MongoDB', 'Python'],\n",
    "    'address':{\n",
    "        'street':'Space street',\n",
    "        'zipcode':'02210'\n",
    "    }\n",
    "}\n",
    "\n",
    "print(len(person)) # 7\n",
    "\n",
    "# index - 会抛出异常\n",
    "print(person['skills'])     # ['JavaScript', 'React', 'Node', 'MongoDB', 'Python']\n",
    "print(person['skills'][0])  # JavaScript\n",
    "print(person['address']['street']) # Space street\n",
    "# print(person['city'])       # KeyError\n",
    "\n",
    "# get 不会抛出异常 - 返回None\n",
    "print(person.get('first_name')) # Asabeneh\n",
    "print(person.get('country'))    # Finland\n",
    "print(person.get('skills')) #['HTML','CSS','JavaScript', 'React', 'Node', 'MongoDB', 'Python']\n",
    "print(person.get('city'))   # None"
   ]
  },
  {
   "cell_type": "code",
   "execution_count": 8,
   "metadata": {},
   "outputs": [
    {
     "name": "stdout",
     "output_type": "stream",
     "text": [
      "['JavaScript', 'React', 'Node', 'MongoDB', 'Python', 'HTML']\n",
      "['JavaScript', 'React', 'Node', 'MongoDB', 'Python', 'HTML', 'HTML']\n"
     ]
    }
   ],
   "source": [
    "# 修改或增加 - modify the dictionary\n",
    "person['first_name'] = 'Eyob'\n",
    "person['age'] = 252"
   ]
  },
  {
   "cell_type": "code",
   "execution_count": 10,
   "metadata": {},
   "outputs": [
    {
     "name": "stdout",
     "output_type": "stream",
     "text": [
      "True\n",
      "False\n"
     ]
    }
   ],
   "source": [
    "# check if a key exist\n",
    "dct = {'key1':'value1', 'key2':'value2', 'key3':'value3', 'key4':'value4'}\n",
    "print('key2' in dct) # True\n",
    "print('key5' in dct) # False"
   ]
  },
  {
   "cell_type": "code",
   "execution_count": 3,
   "metadata": {},
   "outputs": [
    {
     "name": "stdout",
     "output_type": "stream",
     "text": [
      "{'key1': 'value1', 'key2': 'value2', 'key3': 'value3'}\n",
      "{'key1': 'value1', 'key2': 'value2'}\n",
      "{'key1': 'value1'}\n",
      "{}\n"
     ]
    }
   ],
   "source": [
    "# pop, popitem, del\n",
    "dct = {'key1':'value1', 'key2':'value2', 'key3':'value3', 'key4':'value4'}\n",
    "dct.pop('key1') # removes key1 item\n",
    "\n",
    "del dct['key2'] # removes key2 item\n",
    "\n",
    "dct = {'key1':'value1', 'key2':'value2', 'key3':'value3', 'key4':'value4'}\n",
    "for i in range(len(dct)):\n",
    "    dct.popitem() # removes the last item\n",
    "    print(dct)"
   ]
  },
  {
   "cell_type": "code",
   "execution_count": 12,
   "metadata": {},
   "outputs": [
    {
     "name": "stdout",
     "output_type": "stream",
     "text": [
      "dict_items([('key1', 'value1'), ('key2', 'value2'), ('key3', 'value3'), ('key4', 'value4')])\n"
     ]
    }
   ],
   "source": [
    "# The items() method changes dictionary to a list of tuples.\n",
    "\n",
    "dct = {'key1':'value1', 'key2':'value2', 'key3':'value3', 'key4':'value4'}\n",
    "print(dct.items()) # dict_items([('key1', 'value1'), ('key2', 'value2'), ('key3', 'value3'), ('key4', 'value4')])"
   ]
  },
  {
   "cell_type": "code",
   "execution_count": 13,
   "metadata": {},
   "outputs": [
    {
     "name": "stdout",
     "output_type": "stream",
     "text": [
      "None\n"
     ]
    }
   ],
   "source": [
    "# clear() method\n",
    "dct = {'key1':'value1', 'key2':'value2', 'key3':'value3', 'key4':'value4'}\n",
    "print(dct.clear()) # None\n",
    "\n",
    "# del\n",
    "dct = {'key1':'value1', 'key2':'value2', 'key3':'value3', 'key4':'value4'}\n",
    "del dct"
   ]
  },
  {
   "cell_type": "code",
   "execution_count": null,
   "metadata": {},
   "outputs": [],
   "source": [
    "# copy - shallow copy\n",
    "dct = {'key1':'value1', 'key2':'value2', 'key3':'value3', 'key4':'value4'}\n",
    "dct_copy = dct.copy() "
   ]
  },
  {
   "cell_type": "code",
   "execution_count": 16,
   "metadata": {},
   "outputs": [
    {
     "name": "stdout",
     "output_type": "stream",
     "text": [
      "dict_keys(['key1', 'key2', 'key3', 'key4'])\n",
      "key1\n",
      "key2\n",
      "key3\n",
      "key4\n",
      "dict_values(['value1', 'value2', 'value3', 'value4'])\n"
     ]
    }
   ],
   "source": [
    "\n",
    "#  keys - tuple\n",
    "dct = {'key1':'value1', 'key2':'value2', 'key3':'value3', 'key4':'value4'}\n",
    "keys = dct.keys()\n",
    "print(keys)     # dict_keys(['key1', 'key2', 'key3', 'key4'])\n",
    "# keys.append('key5') # 'dict_keys' object has no attribute 'append'\n",
    "\n",
    "# values - tuple\n",
    "values = dct.values()\n",
    "print(values)     # dict_values(['value1', 'value2', 'value3', 'value4'])"
   ]
  }
 ],
 "metadata": {
  "kernelspec": {
   "display_name": "bel-llm-jupiter-2",
   "language": "python",
   "name": "bel-llm-jupiter-2"
  },
  "language_info": {
   "codemirror_mode": {
    "name": "ipython",
    "version": 3
   },
   "file_extension": ".py",
   "mimetype": "text/x-python",
   "name": "python",
   "nbconvert_exporter": "python",
   "pygments_lexer": "ipython3",
   "version": "3.11.6"
  }
 },
 "nbformat": 4,
 "nbformat_minor": 2
}

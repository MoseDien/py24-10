{
 "cells": [
  {
   "cell_type": "markdown",
   "metadata": {},
   "source": [
    "# day 06: tuples\n",
    "- tuple最重要的是immutable，其他和list差不多"
   ]
  },
  {
   "cell_type": "code",
   "execution_count": 1,
   "metadata": {},
   "outputs": [],
   "source": [
    "# index\n",
    "fruits = ('banana', 'orange', 'mango', 'lemon')\n",
    "first_fruit = fruits[0]\n",
    "second_fruit = fruits[1]\n",
    "last_index =len(fruits) - 1\n",
    "last_fruit = fruits[last_index]\n",
    "\n",
    "# negative index\n",
    "fruits = ('banana', 'orange', 'mango', 'lemon')\n",
    "first_fruit = fruits[-4]\n",
    "second_fruit = fruits[-3]\n",
    "last_fruit = fruits[-1]"
   ]
  },
  {
   "cell_type": "code",
   "execution_count": null,
   "metadata": {},
   "outputs": [],
   "source": [
    "# slicing\n",
    "fruits = ('banana', 'orange', 'mango', 'lemon')\n",
    "all_fruits = fruits[0:4]    # all items\n",
    "all_fruits= fruits[0:]      # all items\n",
    "orange_mango = fruits[1:3]  # doesn't include item at index 3\n",
    "orange_to_the_rest = fruits[1:]\n",
    "\n",
    "# negative slicing\n",
    "fruits = ('banana', 'orange', 'mango', 'lemon')\n",
    "all_fruits = fruits[-4:]    # all items\n",
    "orange_mango = fruits[-3:-1]  # doesn't include item at index 3\n",
    "orange_to_the_rest = fruits[-3:]"
   ]
  },
  {
   "cell_type": "code",
   "execution_count": 2,
   "metadata": {},
   "outputs": [
    {
     "name": "stdout",
     "output_type": "stream",
     "text": [
      "['apple', 'orange', 'mango', 'lemon']\n",
      "('apple', 'orange', 'mango', 'lemon')\n"
     ]
    }
   ],
   "source": [
    "# change tuple - list\n",
    "fruits = ('banana', 'orange', 'mango', 'lemon')\n",
    "fruits = list(fruits)\n",
    "fruits[0] = 'apple'\n",
    "print(fruits)     # ['apple', 'orange', 'mango', 'lemon']\n",
    "fruits = tuple(fruits)\n",
    "print(fruits)     # ('apple', 'orange', 'mango', 'lemon')"
   ]
  },
  {
   "cell_type": "code",
   "execution_count": 4,
   "metadata": {},
   "outputs": [
    {
     "name": "stdout",
     "output_type": "stream",
     "text": [
      "True\n",
      "False\n"
     ]
    }
   ],
   "source": [
    "# check item - in\n",
    "fruits = ('banana', 'orange', 'mango', 'lemon')\n",
    "print('orange' in fruits) # True\n",
    "print('apple' in fruits) # False\n",
    "# fruits[0] = 'apple' # TypeError: 'tuple' object does not support item assignment"
   ]
  },
  {
   "cell_type": "code",
   "execution_count": null,
   "metadata": {},
   "outputs": [],
   "source": [
    "# join tuples\n",
    "fruits = ('banana', 'orange', 'mango', 'lemon')\n",
    "vegetables = ('Tomato', 'Potato', 'Cabbage','Onion', 'Carrot')\n",
    "fruits_and_vegetables = fruits + vegetables"
   ]
  },
  {
   "cell_type": "code",
   "execution_count": 5,
   "metadata": {},
   "outputs": [],
   "source": [
    "fruits = ('banana', 'orange', 'mango', 'lemon')\n",
    "del fruits"
   ]
  }
 ],
 "metadata": {
  "kernelspec": {
   "display_name": "bel-llm-jupiter-2",
   "language": "python",
   "name": "bel-llm-jupiter-2"
  },
  "language_info": {
   "codemirror_mode": {
    "name": "ipython",
    "version": 3
   },
   "file_extension": ".py",
   "mimetype": "text/x-python",
   "name": "python",
   "nbconvert_exporter": "python",
   "pygments_lexer": "ipython3",
   "version": "3.11.6"
  }
 },
 "nbformat": 4,
 "nbformat_minor": 2
}

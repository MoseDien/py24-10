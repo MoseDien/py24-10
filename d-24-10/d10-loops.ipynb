{
 "cells": [
  {
   "cell_type": "markdown",
   "metadata": {},
   "source": [
    "# day 10: loops"
   ]
  },
  {
   "cell_type": "code",
   "execution_count": 3,
   "metadata": {},
   "outputs": [
    {
     "name": "stdout",
     "output_type": "stream",
     "text": [
      "0\n",
      "1\n",
      "2\n",
      "3\n",
      "4\n",
      "0\n",
      "1\n",
      "2\n",
      "3\n",
      "4\n",
      "5\n"
     ]
    }
   ],
   "source": [
    "# while loop - while else\n",
    "count = 0\n",
    "while count < 5:\n",
    "    print(count)\n",
    "    count = count + 1\n",
    "#prints from 0 to 4\n",
    "    \n",
    "count = 0\n",
    "while count < 5:\n",
    "    print(count)\n",
    "    count = count + 1\n",
    "else:\n",
    "    print(count)\n",
    "\n",
    "# for-else loop\n",
    "for number in range(11):\n",
    "    print(number)   # prints 0 to 10, not including 11\n",
    "else:\n",
    "    print('The loop stops at', number)"
   ]
  },
  {
   "cell_type": "code",
   "execution_count": null,
   "metadata": {},
   "outputs": [
    {
     "name": "stdout",
     "output_type": "stream",
     "text": [
      "P\n",
      "y\n",
      "t\n",
      "h\n",
      "o\n",
      "n\n",
      "P\n",
      "y\n",
      "t\n",
      "h\n",
      "o\n",
      "n\n",
      "0 P\n",
      "1 y\n",
      "2 t\n",
      "3 h\n",
      "4 o\n",
      "5 n\n"
     ]
    }
   ],
   "source": [
    "# for loop\n",
    "language = 'Python'\n",
    "for letter in language:\n",
    "    print(letter)\n",
    "\n",
    "# 为了得到索引，\n",
    "for i in range(len(language)):\n",
    "    print(language[i])\n",
    "\n",
    "# 同时得到索引和枚举 - enumerate，enumerate是一个class\n",
    "# swift中的enumerated()方法\n",
    "for (index, letter) in enumerate(language):\n",
    "    print(index, letter)"
   ]
  },
  {
   "cell_type": "code",
   "execution_count": null,
   "metadata": {},
   "outputs": [],
   "source": [
    "# 对dict进行迭代\n",
    "person = {\n",
    "    'first_name':'Asabeneh',\n",
    "    'last_name':'Yetayeh',\n",
    "    'age':250,\n",
    "    'country':'Finland',\n",
    "    'is_marred':True,\n",
    "    'skills':['JavaScript', 'React', 'Node', 'MongoDB', 'Python'],\n",
    "    'address':{\n",
    "        'street':'Space street',\n",
    "        'zipcode':'02210'\n",
    "    }\n",
    "}\n",
    "for key in person:\n",
    "    print(key)\n",
    "\n",
    "for key, value in person.items():\n",
    "    print(key, value) # this way we get both keys and values printed out"
   ]
  },
  {
   "cell_type": "code",
   "execution_count": null,
   "metadata": {},
   "outputs": [],
   "source": [
    "# range(start, stop, step)\n",
    "# [) - 左闭右开 - start is inclusive, stop is exclusive\n",
    "lst = list(range(11)) \n",
    "print(lst) # [0, 1, 2, 3, 4, 5, 6, 7, 8, 9, 10]\n",
    "st = set(range(1, 11))    # 2 arguments indicate start and end of the sequence, step set to default 1\n",
    "print(st) # {1, 2, 3, 4, 5, 6, 7, 8, 9, 10}\n",
    "\n",
    "lst = list(range(0,11,2))\n",
    "print(lst) # [0, 2, 4, 6, 8, 10]\n",
    "st = set(range(0,11,2))\n",
    "print(st) #  {0, 2, 4, 6, 8, 10}"
   ]
  },
  {
   "cell_type": "code",
   "execution_count": 9,
   "metadata": {},
   "outputs": [
    {
     "name": "stdout",
     "output_type": "stream",
     "text": [
      "#\n",
      "##\n",
      "###\n",
      "####\n",
      "#####\n",
      "######\n",
      "#######\n",
      "########\n",
      "#########\n",
      "##########\n"
     ]
    }
   ],
   "source": [
    "# print \"#\" from 1 to 10\n",
    "for i in range(1, 11):\n",
    "    for j in range(i):\n",
    "        print('#', end='')\n",
    "    print('')"
   ]
  }
 ],
 "metadata": {
  "kernelspec": {
   "display_name": "bel-llm-jupiter-2",
   "language": "python",
   "name": "bel-llm-jupiter-2"
  },
  "language_info": {
   "codemirror_mode": {
    "name": "ipython",
    "version": 3
   },
   "file_extension": ".py",
   "mimetype": "text/x-python",
   "name": "python",
   "nbconvert_exporter": "python",
   "pygments_lexer": "ipython3",
   "version": "3.11.6"
  }
 },
 "nbformat": 4,
 "nbformat_minor": 2
}

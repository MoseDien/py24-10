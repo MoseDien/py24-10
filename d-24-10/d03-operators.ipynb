{
 "cells": [
  {
   "cell_type": "markdown",
   "metadata": {},
   "source": [
    "## day 3: operaters\n",
    "- Assignment Operators: =, +=, -= ...\n",
    "- Comparison Operators: ==, !=, <, >,  >=, <=\n",
    "- Arithmetic Operators: **, //, %\n",
    "- Logical Operators: and, or, not - 同时也是关键字\n",
    "\n",
    "其他\n",
    "- Jupiter-notebook 在vscode里面使用 input()的时候，也会弹出输入，但不在当前cell而是在顶部"
   ]
  },
  {
   "cell_type": "code",
   "execution_count": 1,
   "metadata": {},
   "outputs": [
    {
     "name": "stdout",
     "output_type": "stream",
     "text": [
      "True\n",
      "False\n"
     ]
    }
   ],
   "source": [
    "print(True)\n",
    "print(False)"
   ]
  },
  {
   "cell_type": "code",
   "execution_count": 2,
   "metadata": {},
   "outputs": [
    {
     "name": "stdout",
     "output_type": "stream",
     "text": [
      "Complex number:  (1+1j)\n",
      "Multiplying complex numbers:  (2+0j)\n"
     ]
    }
   ],
   "source": [
    "# Complex numbers\n",
    "print('Complex number: ', 1 + 1j)\n",
    "print('Multiplying complex numbers: ',(1 + 1j) * (1 - 1j))"
   ]
  },
  {
   "cell_type": "code",
   "execution_count": 3,
   "metadata": {},
   "outputs": [
    {
     "name": "stdout",
     "output_type": "stream",
     "text": [
      "The area of the triangle is:  6.0\n"
     ]
    }
   ],
   "source": [
    "# Write a script that prompts the user to enter base and\n",
    "# height of the triangle and calculate an area of this triangle (area = 0.5 x b x h).\n",
    "base = float(input('Enter the base of the triangle: '))\n",
    "height = float(input('Enter the height of the triangle: '))\n",
    "area = 0.5 * base * height\n",
    "print('The area of the triangle is: ', area)"
   ]
  },
  {
   "cell_type": "code",
   "execution_count": null,
   "metadata": {},
   "outputs": [
    {
     "name": "stdout",
     "output_type": "stream",
     "text": [
      "1 1 1 1 1\n",
      "2 1 2 4 8\n",
      "3 1 3 9 27\n",
      "4 1 4 16 64\n",
      "5 1 5 25 125\n"
     ]
    }
   ],
   "source": [
    "# Write a Python script that displays the following table\n",
    "# 1 1 1 1 1\n",
    "# 2 1 2 4 8\n",
    "# 3 1 3 9 27\n",
    "# 4 1 4 16 64\n",
    "# 5 1 5 25 125\n",
    "for i in range(1, 6):\n",
    "    print(i, 1, i, i**2, i**3)\n",
    "\n",
    "# range() 函数是左闭右开的 - [start, stop)"
   ]
  },
  {
   "cell_type": "code",
   "execution_count": 1,
   "metadata": {},
   "outputs": [
    {
     "name": "stdout",
     "output_type": "stream",
     "text": [
      "The slope is:  2.0\n",
      "The Euclidean distance is:  8.94427190999916\n"
     ]
    }
   ],
   "source": [
    "# Slope is (m = y2-y1/x2-x1). Find the slope and Euclidean distance between point (2, 2) and point (6,10)\n",
    "# 2**3 或者 2**0.5\n",
    "x1, y1 = 2, 2\n",
    "x2, y2 = 6, 10\n",
    "m = (y2 - y1) / (x2 - x1)\n",
    "print('The slope is: ', m)\n",
    "euclidean_distance = ((x2 - x1)**2 + (y2 - y1)**2)**0.5\n",
    "print('The Euclidean distance is: ', euclidean_distance)"
   ]
  }
 ],
 "metadata": {
  "kernelspec": {
   "display_name": "bel-llm-jupiter-2",
   "language": "python",
   "name": "bel-llm-jupiter-2"
  },
  "language_info": {
   "codemirror_mode": {
    "name": "ipython",
    "version": 3
   },
   "file_extension": ".py",
   "mimetype": "text/x-python",
   "name": "python",
   "nbconvert_exporter": "python",
   "pygments_lexer": "ipython3",
   "version": "3.11.6"
  }
 },
 "nbformat": 4,
 "nbformat_minor": 2
}
